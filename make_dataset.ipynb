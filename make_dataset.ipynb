{
 "cells": [
  {
   "cell_type": "markdown",
   "metadata": {},
   "source": [
    "# CSV dataset"
   ]
  },
  {
   "cell_type": "code",
   "execution_count": null,
   "metadata": {},
   "outputs": [],
   "source": [
    "import pandas as pd\n",
    "import numpy as np\n",
    "import os\n",
    "\n",
    "import matplotlib.pyplot as plt\n",
    "%matplotlib inline\n",
    "\n",
    "# Don't Show Warning Messages\n",
    "import warnings\n",
    "warnings.filterwarnings('ignore')\n",
    "\n",
    "from pydub import AudioSegment\n",
    "import IPython\n",
    "\n",
    "import soundfile as sf"
   ]
  },
  {
   "cell_type": "code",
   "execution_count": null,
   "metadata": {},
   "outputs": [],
   "source": [
    "file_list = os.listdir('../dataset/Respiratory_Sound_Database/audio_and_txt_files')[1:]\n",
    "col_files = ['patient_id','recording_index','Chest_location','Acquisition_mode','Recording_equipment','file_name']\n",
    "df_files = pd.DataFrame(columns = col_files)\n",
    "\n",
    "\n",
    "col_names = ['Beginning_of_respiratory_cycle', 'End_of_respiratory_cycle', 'Presence/absence_of_crackles', 'Presence/absence_of_wheezes']\n",
    "\n",
    "for i,file_name in enumerate(file_list[0::2]):\n",
    "    text_file = file_name[0:-4]+'.txt'\n",
    "    df_annot = pd.read_csv('../dataset/Respiratory_Sound_Database/audio_and_txt_files/'+text_file, sep=\"\\t\", header=None, names=col_names)\n",
    "    df_files.loc[i,'crackles'] = df_annot[col_names[2]].sum()\n",
    "    df_files.loc[i, 'wheezes'] = df_annot[col_names[3]].sum()\n",
    "    df_files.loc[i, 'all_crackles_wheeze'] = df_annot[(df_annot[col_names[2]]==1)&(df_annot[col_names[3]]==1)].count()[0]\n",
    "\n",
    "df_patient = pd.read_csv('patient_info.csv')\n",
    "\n",
    "df_all= pd.merge(df_patient, df_files, on=  \"patient_id\")\n",
    "df_all.to_csv('data_all.csv',index = False)"
   ]
  },
  {
   "cell_type": "markdown",
   "metadata": {},
   "source": [
    "# make dataset"
   ]
  },
  {
   "cell_type": "code",
   "execution_count": 1,
   "metadata": {},
   "outputs": [
    {
     "name": "stderr",
     "output_type": "stream",
     "text": [
      "C:\\Users\\user\\.conda\\envs\\sound\\lib\\site-packages\\pydub\\utils.py:170: RuntimeWarning: Couldn't find ffmpeg or avconv - defaulting to ffmpeg, but may not work\n",
      "  warn(\"Couldn't find ffmpeg or avconv - defaulting to ffmpeg, but may not work\", RuntimeWarning)\n"
     ]
    }
   ],
   "source": [
    "import pandas as pd\n",
    "import numpy as np\n",
    "import os\n",
    "import seaborn as sns\n",
    "import numpy\n",
    "import matplotlib.pyplot as plt\n",
    "import matplotlib\n",
    "import librosa\n",
    "import librosa.display\n",
    "from librosa import amplitude_to_db \n",
    "from pydub import AudioSegment\n",
    "%matplotlib inline\n",
    "\n",
    "from pydub import AudioSegment\n",
    "import IPython\n",
    "\n",
    "import soundfile as sf\n",
    "import warnings\n",
    "warnings.filterwarnings('ignore')\n"
   ]
  },
  {
   "cell_type": "markdown",
   "metadata": {},
   "source": [
    "# to numpy"
   ]
  },
  {
   "cell_type": "code",
   "execution_count": 2,
   "metadata": {},
   "outputs": [],
   "source": [
    "frame_length = 0.025 #s\n",
    "frame_stride = 0.010 #s\n",
    "\n",
    "def audio_preprocessing(save_file, path = 'new_slice.wav'):\n",
    "    y, sr = librosa.load(path)\n",
    "    input_nfft = int(round(sr*frame_length)) \n",
    "    input_stride = int(round(sr*frame_stride))\n",
    "    \n",
    "    mfcc = librosa.feature.mfcc(y=y, sr=sr)\n",
    "    np.save('../data/MFCC/'+save_file+'.npy', mfcc)\n",
    "    \n",
    "    stft = librosa.stft(y, n_fft=input_nfft, hop_length=input_stride)\n",
    "    stft = librosa.amplitude_to_db(abs(stft))\n",
    "    np.save('../data/STFT/'+save_file+'.npy', stft)\n",
    "    \n",
    "    mel = librosa.feature.melspectrogram(y=y, n_mels=40, n_fft=input_nfft, hop_length=input_stride) \n",
    "    mel = librosa.power_to_db(np.abs(mel), ref=np.max)\n",
    "    np.save('../data/MEL/'+save_file+'.npy', mel)\n",
    "\n",
    "def cutAudio(path, st, end):\n",
    "    st = st*1000\n",
    "    end = end*1000\n",
    "    audio = AudioSegment.from_wav(path)\n",
    "    audio = audio[st:end]\n",
    "    return audio"
   ]
  },
  {
   "cell_type": "code",
   "execution_count": 3,
   "metadata": {},
   "outputs": [],
   "source": [
    "df_data = pd.read_csv('../dataset/data_all.csv')\n",
    "data_csv = pd.DataFrame(columns=['patient_id', 'diagnosis', 'mfcc', 'stft', 'mel'])\n",
    "\n",
    "csv_index = 0\n",
    "for i in range(len(df_data)):\n",
    "    path = '../dataset/Respiratory_Sound_Database/audio_and_txt_files/'+str(df_data['file_name'][i])+'.wav'\n",
    "    \n",
    "    data, sr = sf.read(path)\n",
    "    T_length = int(len(data)/sr)\n",
    "    st = 0\n",
    "    end = 7\n",
    "    count = 0\n",
    "    \n",
    "    while end<=T_length:\n",
    "        save_name = str(df_data['patient_id'][i])+'_'+str(df_data['diagnosis'][i])+'_'+str(i)+'_'+str(int(count))\n",
    "        wav_file = cutAudio(path, st, end)\n",
    "        wav_file.export('new_slice.wav', format=\"wav\")\n",
    "        \n",
    "        audio_preprocessing(save_name)\n",
    "        \n",
    "        data_csv.loc[csv_index] = [df_data['patient_id'][i],str(df_data['diagnosis'][i]), \n",
    "                                   '../data/MFCC/'+save_name+'.npy',\n",
    "                                   '../data/STFT/'+save_name+'.npy', \n",
    "                                   '../data/MEL/'+save_name+'.npy']\n",
    "        \n",
    "        st+=5\n",
    "        end+=5\n",
    "        count+=1\n",
    "        csv_index+=1\n",
    "\n",
    "data_csv.to_csv('../data/dataset.csv',index =False)"
   ]
  },
  {
   "cell_type": "code",
   "execution_count": 4,
   "metadata": {},
   "outputs": [
    {
     "name": "stdout",
     "output_type": "stream",
     "text": [
      "mfcc size:  (20, 862)\n",
      "stft size:  (276, 2005)\n",
      "mel size:  (40, 2005)\n"
     ]
    }
   ],
   "source": [
    " y, sr = librosa.load(path)\n",
    "input_nfft = int(round(sr*frame_length)) \n",
    "input_stride = int(round(sr*frame_stride))\n",
    "    \n",
    "mfcc = librosa.feature.mfcc(y=y, sr=sr)\n",
    "    \n",
    "stft = librosa.stft(y, n_fft=input_nfft, hop_length=input_stride)\n",
    "stft = librosa.amplitude_to_db(abs(stft))\n",
    "    \n",
    "mel = librosa.feature.melspectrogram(y=y, n_mels=40, n_fft=input_nfft, hop_length=input_stride) \n",
    "mel = librosa.power_to_db(np.abs(mel), ref=np.max)\n",
    "    \n",
    "print('mfcc size: ', mfcc.shape)\n",
    "print('stft size: ', stft.shape)\n",
    "print('mel size: ', mel.shape)"
   ]
  },
  {
   "cell_type": "code",
   "execution_count": 5,
   "metadata": {},
   "outputs": [],
   "source": [
    "data_csv['URTI'] = 0\n",
    "data_csv['Healthy'] = 0\n",
    "data_csv['COPD'] = 0\n",
    "data_csv['Asthma'] = 0\n",
    "data_csv['LRTI'] = 0\n",
    "data_csv['Bronchiectasis'] = 0\n",
    "data_csv['Pneumonia'] = 0\n",
    "data_csv['Bronchiolitis'] = 0\n",
    "\n",
    "for i in range(len(data_csv)):\n",
    "    data_csv.loc[i,data_csv.loc[i,'diagnosis']] = 1\n",
    "data_csv.to_csv('../data/dataset.csv', index= False)\n",
    "\n",
    "diagnosis = ['URTI','Healthy','COPD','Asthma','LRTI','Bronchiectasis','Pneumonia','Pneumonia','Bronchiolitis']\n",
    "for diag in diagnosis:\n",
    "    DF = data_csv[data_csv[diag]==1]\n",
    "    DF.to_csv('../data/'+diag+'.csv', index = False)"
   ]
  },
  {
   "cell_type": "code",
   "execution_count": 6,
   "metadata": {},
   "outputs": [],
   "source": [
    "def d_subdata(x, df):\n",
    "    ret = {}\n",
    "    df_sub = pd.DataFrame(df[x])\n",
    "    df_sub.drop_duplicates(inplace = True)\n",
    "    df_sub.sort_values([x], ascending=[True],inplace = True)\n",
    "    df_sub.reset_index(drop=True)\n",
    "    for y in df_sub[x]:\n",
    "        print(y, ' : ', len(df[df[x]==y]))\n",
    "        ret[y] = len(df[df[x]==y])\n",
    "    return ret"
   ]
  },
  {
   "cell_type": "code",
   "execution_count": 7,
   "metadata": {},
   "outputs": [
    {
     "name": "stdout",
     "output_type": "stream",
     "text": [
      "Asthma  :  3\n",
      "Bronchiectasis  :  48\n",
      "Bronchiolitis  :  39\n",
      "COPD  :  2667\n",
      "Healthy  :  105\n",
      "LRTI  :  6\n",
      "Pneumonia  :  111\n",
      "URTI  :  69\n"
     ]
    },
    {
     "data": {
      "text/plain": [
       "<BarContainer object of 8 artists>"
      ]
     },
     "execution_count": 7,
     "metadata": {},
     "output_type": "execute_result"
    },
    {
     "data": {
      "image/png": "[encoded data removed]",
      "text/plain": [
       "<Figure size 864x216 with 1 Axes>"
      ]
     },
     "metadata": {
      "needs_background": "light"
     },
     "output_type": "display_data"
    }
   ],
   "source": [
    "myDictionary = d_subdata('diagnosis', data_csv)\n",
    "plt.figure(figsize=(12, 3))\n",
    "plt.bar(myDictionary.keys(), myDictionary.values())"
   ]
  },
  {
   "cell_type": "code",
   "execution_count": 10,
   "metadata": {},
   "outputs": [
    {
     "name": "stdout",
     "output_type": "stream",
     "text": [
      "Asthma  :  2\n",
      "Bronchiectasis  :  32\n",
      "Bronchiolitis  :  26\n",
      "COPD  :  1815\n",
      "Healthy  :  70\n",
      "LRTI  :  4\n",
      "Pneumonia  :  74\n",
      "URTI  :  46\n"
     ]
    },
    {
     "data": {
      "text/plain": [
       "<BarContainer object of 8 artists>"
      ]
     },
     "execution_count": 10,
     "metadata": {},
     "output_type": "execute_result"
    },
    {
     "data": {
      "image/png": "[encoded data removed]",
      "text/plain": [
       "<Figure size 864x216 with 1 Axes>"
      ]
     },
     "metadata": {
      "needs_background": "light"
     },
     "output_type": "display_data"
    }
   ],
   "source": [
    "myDictionary = d_subdata('diagnosis', data_csv)\n",
    "plt.figure(figsize=(12, 3))\n",
    "plt.bar(myDictionary.keys(), myDictionary.values())"
   ]
  },
  {
   "cell_type": "markdown",
   "metadata": {},
   "source": [
    "# to image"
   ]
  },
  {
   "cell_type": "code",
   "execution_count": 2,
   "metadata": {},
   "outputs": [],
   "source": [
    "def cutAudio(path, st, end):\n",
    "    st = st*1000\n",
    "    end = end*1000\n",
    "    audio = AudioSegment.from_wav(path)\n",
    "    audio = audio[st:end]\n",
    "    return audio\n",
    "\n",
    "def figure_stft(data, sr, save = None):\n",
    "    D = librosa.amplitude_to_db(data, ref=np.max)\n",
    "    #fig.set_dpi(35)\n",
    "    #fig.set_size_inches(8, 6)\n",
    "    librosa.display.specshow(D, y_axis='log', x_axis='time',sr = sr)\n",
    "    plt.tight_layout()\n",
    "    if save!=None: \n",
    "        plt.savefig('../dataset/STFTs/'+save+'.png',bbox_inches='tight')\n",
    "    else: \n",
    "        plt.colorbar(format='%+0.1f dB')\n",
    "        plt.show()\n",
    "    plt.clf()\n",
    "        \n",
    "def stft(data, n_fft = 2048):\n",
    "    # n_fft : window size\n",
    "    return librosa.stft(data, n_fft = n_fft, hop_length = int(n_fft*0.25))\n",
    "\n",
    "def get_wav_info(wav_file):\n",
    "    data, sr = sf.read(wav_file)\n",
    "    return data, sr"
   ]
  },
  {
   "cell_type": "code",
   "execution_count": null,
   "metadata": {},
   "outputs": [],
   "source": [
    "df_data = pd.read_csv('../dataset/data_all.csv')\n",
    "stft_csv = pd.DataFrame(columns=['file_name','patient_id', 'diagnosis'])\n",
    "stft_index = 0\n",
    "\n",
    "for i in range(len(df_data)):\n",
    "    path = '../dataset/Respiratory_Sound_Database/audio_and_txt_files/'+str(df_data['file_name'][i])+'.wav'\n",
    "    \n",
    "    data, sr = get_wav_info(path)\n",
    "    T_length = int(len(data)/sr)\n",
    "    st = 0\n",
    "    end = 4\n",
    "    count = 0\n",
    "    while end<=T_length:\n",
    "        save_name = str(df_data['patient_id'][i])+'_'+str(df_data['diagnosis'][i])+'_'+str(i)+'_'+str(int(count))\n",
    "        wav_file = cutAudio(path, st, end)\n",
    "        wav_file.export('new_slice.wav', format=\"wav\")\n",
    "        data, sr = get_wav_info('new_slice.wav')\n",
    "        Time = np.linspace(0,4, num=len(data))\n",
    "        fig = matplotlib.pyplot.gcf()\n",
    "        fig.set_dpi(35)\n",
    "        fig.set_size_inches(8, 6)\n",
    "        plt.plot(Time,data)\n",
    "        plt.savefig('../dataset/SIGNALs/'+save_name+'.png',bbox_inches='tight')\n",
    "        plt.clf()\n",
    "        s_data = stft(data)\n",
    "        figure_stft(np.abs(s_data),sr, save =save_name )\n",
    "        plt.clf()\n",
    "        stft_csv.loc[stft_index] = ['../dataset/STFTs/'+save_name+'.png', df_data['patient_id'][i],str(df_data['diagnosis'][i])]\n",
    "        st+=3\n",
    "        end+=3\n",
    "        count+=1\n",
    "        stft_index+=1\n",
    "\n",
    "stft_csv.to_csv('../dataset/file_csv.csv',index =False)"
   ]
  },
  {
   "cell_type": "code",
   "execution_count": 3,
   "metadata": {},
   "outputs": [],
   "source": [
    "# just sound file 7s overlap 0s\n",
    "df_data = pd.read_csv('../dataset/data_all.csv')\n",
    "wav_csv = pd.DataFrame(columns=['file_name','patient_id', 'diagnosis'])\n",
    "index = 0\n",
    "\n",
    "for i in range(len(df_data)):\n",
    "    path = '../dataset/Respiratory_Sound_Database/audio_and_txt_files/'+str(df_data['file_name'][i])+'.wav'\n",
    "    \n",
    "    data, sr = get_wav_info(path)\n",
    "    T_length = int(len(data)/sr)\n",
    "    st = 0\n",
    "    end = 7\n",
    "    count = 0\n",
    "    while end<=T_length:\n",
    "        save_name = str(df_data['patient_id'][i])+'_'+str(df_data['diagnosis'][i])+'_'+str(i)+'_'+str(int(count))\n",
    "        wav_file = cutAudio(path, st, end)\n",
    "        wav_file.export('../dataset/WAVs/'+save_name+'.wav', format=\"wav\")\n",
    "        wav_csv.loc[index] = ['../dataset/WAVs/'+save_name+'.wav', df_data['patient_id'][i],str(df_data['diagnosis'][i])]\n",
    "        st+=7\n",
    "        end+=7\n",
    "        count+=1\n",
    "        index+=1\n",
    "\n",
    "wav_csv.to_csv('../dataset/wav_7s.csv',index =False)"
   ]
  },
  {
   "cell_type": "markdown",
   "metadata": {},
   "source": [
    "# Target value set"
   ]
  },
  {
   "cell_type": "code",
   "execution_count": 1,
   "metadata": {},
   "outputs": [],
   "source": [
    "import pandas as pd\n",
    "stft_csv = pd.read_csv('../dataset/file_csv.csv')\n",
    "stft_csv['URTI'] = 0\n",
    "stft_csv['Healthy'] = 0\n",
    "stft_csv['COPD'] = 0\n",
    "stft_csv['Asthma'] = 0\n",
    "stft_csv['LRTI'] = 0\n",
    "stft_csv['Bronchiectasis'] = 0\n",
    "stft_csv['Pneumonia'] = 0\n",
    "stft_csv['Bronchiolitis'] = 0\n",
    "\n",
    "for i in range(len(stft_csv)):\n",
    "    stft_csv.loc[i,stft_csv.loc[i,'diagnosis']] = 1\n",
    "    \n",
    "stft_csv.to_csv('../dataset/dataset_csv.csv', index= False)"
   ]
  },
  {
   "cell_type": "code",
   "execution_count": 2,
   "metadata": {},
   "outputs": [
    {
     "data": {
      "text/html": [
       "<div>\n",
       "<style scoped>\n",
       "    .dataframe tbody tr th:only-of-type {\n",
       "        vertical-align: middle;\n",
       "    }\n",
       "\n",
       "    .dataframe tbody tr th {\n",
       "        vertical-align: top;\n",
       "    }\n",
       "\n",
       "    .dataframe thead th {\n",
       "        text-align: right;\n",
       "    }\n",
       "</style>\n",
       "<table border=\"1\" class=\"dataframe\">\n",
       "  <thead>\n",
       "    <tr style=\"text-align: right;\">\n",
       "      <th></th>\n",
       "      <th>file_name</th>\n",
       "      <th>patient_id</th>\n",
       "      <th>diagnosis</th>\n",
       "      <th>URTI</th>\n",
       "      <th>Healthy</th>\n",
       "      <th>COPD</th>\n",
       "      <th>Asthma</th>\n",
       "      <th>LRTI</th>\n",
       "      <th>Bronchiectasis</th>\n",
       "      <th>Pneumonia</th>\n",
       "      <th>Bronchiolitis</th>\n",
       "    </tr>\n",
       "  </thead>\n",
       "  <tbody>\n",
       "    <tr>\n",
       "      <th>0</th>\n",
       "      <td>../dataset/STFTs/101_URTI_0_0.png</td>\n",
       "      <td>101</td>\n",
       "      <td>URTI</td>\n",
       "      <td>1</td>\n",
       "      <td>0</td>\n",
       "      <td>0</td>\n",
       "      <td>0</td>\n",
       "      <td>0</td>\n",
       "      <td>0</td>\n",
       "      <td>0</td>\n",
       "      <td>0</td>\n",
       "    </tr>\n",
       "    <tr>\n",
       "      <th>1</th>\n",
       "      <td>../dataset/STFTs/101_URTI_0_1.png</td>\n",
       "      <td>101</td>\n",
       "      <td>URTI</td>\n",
       "      <td>1</td>\n",
       "      <td>0</td>\n",
       "      <td>0</td>\n",
       "      <td>0</td>\n",
       "      <td>0</td>\n",
       "      <td>0</td>\n",
       "      <td>0</td>\n",
       "      <td>0</td>\n",
       "    </tr>\n",
       "    <tr>\n",
       "      <th>2</th>\n",
       "      <td>../dataset/STFTs/101_URTI_0_2.png</td>\n",
       "      <td>101</td>\n",
       "      <td>URTI</td>\n",
       "      <td>1</td>\n",
       "      <td>0</td>\n",
       "      <td>0</td>\n",
       "      <td>0</td>\n",
       "      <td>0</td>\n",
       "      <td>0</td>\n",
       "      <td>0</td>\n",
       "      <td>0</td>\n",
       "    </tr>\n",
       "    <tr>\n",
       "      <th>3</th>\n",
       "      <td>../dataset/STFTs/101_URTI_0_3.png</td>\n",
       "      <td>101</td>\n",
       "      <td>URTI</td>\n",
       "      <td>1</td>\n",
       "      <td>0</td>\n",
       "      <td>0</td>\n",
       "      <td>0</td>\n",
       "      <td>0</td>\n",
       "      <td>0</td>\n",
       "      <td>0</td>\n",
       "      <td>0</td>\n",
       "    </tr>\n",
       "    <tr>\n",
       "      <th>4</th>\n",
       "      <td>../dataset/STFTs/101_URTI_0_4.png</td>\n",
       "      <td>101</td>\n",
       "      <td>URTI</td>\n",
       "      <td>1</td>\n",
       "      <td>0</td>\n",
       "      <td>0</td>\n",
       "      <td>0</td>\n",
       "      <td>0</td>\n",
       "      <td>0</td>\n",
       "      <td>0</td>\n",
       "      <td>0</td>\n",
       "    </tr>\n",
       "  </tbody>\n",
       "</table>\n",
       "</div>"
      ],
      "text/plain": [
       "                           file_name  patient_id diagnosis  URTI  Healthy  \\\n",
       "0  ../dataset/STFTs/101_URTI_0_0.png         101      URTI     1        0   \n",
       "1  ../dataset/STFTs/101_URTI_0_1.png         101      URTI     1        0   \n",
       "2  ../dataset/STFTs/101_URTI_0_2.png         101      URTI     1        0   \n",
       "3  ../dataset/STFTs/101_URTI_0_3.png         101      URTI     1        0   \n",
       "4  ../dataset/STFTs/101_URTI_0_4.png         101      URTI     1        0   \n",
       "\n",
       "   COPD  Asthma  LRTI  Bronchiectasis  Pneumonia  Bronchiolitis  \n",
       "0     0       0     0               0          0              0  \n",
       "1     0       0     0               0          0              0  \n",
       "2     0       0     0               0          0              0  \n",
       "3     0       0     0               0          0              0  \n",
       "4     0       0     0               0          0              0  "
      ]
     },
     "execution_count": 2,
     "metadata": {},
     "output_type": "execute_result"
    }
   ],
   "source": [
    "stft_csv.head()"
   ]
  },
  {
   "cell_type": "markdown",
   "metadata": {},
   "source": [
    "# DATA image crop"
   ]
  },
  {
   "cell_type": "code",
   "execution_count": 1,
   "metadata": {},
   "outputs": [],
   "source": [
    "import pandas as pd\n",
    "from PIL import Image\n",
    "stft_csv = pd.read_csv('../dataset/file_csv.csv')\n",
    "\n",
    "for i in range(len(stft_csv)):\n",
    "    path = stft_csv.loc[i,'file_name']\n",
    "    img = Image.open(path)\n",
    "    img = img.crop((30,10,270,187))\n",
    "    img.save(path[0:11]+'DATAset'+path[16:])"
   ]
  },
  {
   "cell_type": "code",
   "execution_count": null,
   "metadata": {},
   "outputs": [],
   "source": [
    "import cv2\n",
    "import pandas as pd\n",
    "import pandas as pd\n",
    "from PIL import Image\n",
    "stft_csv = pd.read_csv('../dataset/dataset_csv.csv')\n",
    "\n",
    "for i in range(len(stft_csv)):\n",
    "    path = stft_csv.loc[i,'crop_path']\n",
    "    img = Image.open(path)\n",
    "    r,g,b,a = cv2.split(img)\n",
    "    new_img = cv2.merge([r, g, b])\n",
    "    new_img.save(path[0:11]+'DATA_3ch'+path[16:])\n"
   ]
  },
  {
   "cell_type": "markdown",
   "metadata": {},
   "source": [
    "# crop DATA restore"
   ]
  },
  {
   "cell_type": "code",
   "execution_count": 1,
   "metadata": {},
   "outputs": [],
   "source": [
    "import pandas as pd\n",
    "stft_csv = pd.read_csv('../dataset/dataset_csv.csv')\n",
    "\n",
    "for i in range(len(stft_csv)):\n",
    "    path = stft_csv.loc[i,'file_name']\n",
    "    new_path = path[0:11]+'DATAset'+path[16:]\n",
    "    stft_csv.loc[i,'crop_path'] = new_path\n",
    "stft_csv.to_csv('../dataset/dataset_csv.csv', index = False)"
   ]
  },
  {
   "cell_type": "code",
   "execution_count": 2,
   "metadata": {},
   "outputs": [
    {
     "data": {
      "text/html": [
       "<div>\n",
       "<style scoped>\n",
       "    .dataframe tbody tr th:only-of-type {\n",
       "        vertical-align: middle;\n",
       "    }\n",
       "\n",
       "    .dataframe tbody tr th {\n",
       "        vertical-align: top;\n",
       "    }\n",
       "\n",
       "    .dataframe thead th {\n",
       "        text-align: right;\n",
       "    }\n",
       "</style>\n",
       "<table border=\"1\" class=\"dataframe\">\n",
       "  <thead>\n",
       "    <tr style=\"text-align: right;\">\n",
       "      <th></th>\n",
       "      <th>Unnamed: 0</th>\n",
       "      <th>file_name</th>\n",
       "      <th>patient_id</th>\n",
       "      <th>diagnosis</th>\n",
       "      <th>URTI</th>\n",
       "      <th>Healthy</th>\n",
       "      <th>COPD</th>\n",
       "      <th>Asthma</th>\n",
       "      <th>LRTI</th>\n",
       "      <th>Bronchiectasis</th>\n",
       "      <th>Pneumonia</th>\n",
       "      <th>Bronchiolitis</th>\n",
       "      <th>crop_path</th>\n",
       "    </tr>\n",
       "  </thead>\n",
       "  <tbody>\n",
       "    <tr>\n",
       "      <th>0</th>\n",
       "      <td>0</td>\n",
       "      <td>../dataset/STFTs/101_URTI_0_0.png</td>\n",
       "      <td>101</td>\n",
       "      <td>URTI</td>\n",
       "      <td>1</td>\n",
       "      <td>0</td>\n",
       "      <td>0</td>\n",
       "      <td>0</td>\n",
       "      <td>0</td>\n",
       "      <td>0</td>\n",
       "      <td>0</td>\n",
       "      <td>0</td>\n",
       "      <td>../dataset/DATAset/101_URTI_0_0.png</td>\n",
       "    </tr>\n",
       "    <tr>\n",
       "      <th>1</th>\n",
       "      <td>1</td>\n",
       "      <td>../dataset/STFTs/101_URTI_0_1.png</td>\n",
       "      <td>101</td>\n",
       "      <td>URTI</td>\n",
       "      <td>1</td>\n",
       "      <td>0</td>\n",
       "      <td>0</td>\n",
       "      <td>0</td>\n",
       "      <td>0</td>\n",
       "      <td>0</td>\n",
       "      <td>0</td>\n",
       "      <td>0</td>\n",
       "      <td>../dataset/DATAset/101_URTI_0_1.png</td>\n",
       "    </tr>\n",
       "    <tr>\n",
       "      <th>2</th>\n",
       "      <td>2</td>\n",
       "      <td>../dataset/STFTs/101_URTI_0_2.png</td>\n",
       "      <td>101</td>\n",
       "      <td>URTI</td>\n",
       "      <td>1</td>\n",
       "      <td>0</td>\n",
       "      <td>0</td>\n",
       "      <td>0</td>\n",
       "      <td>0</td>\n",
       "      <td>0</td>\n",
       "      <td>0</td>\n",
       "      <td>0</td>\n",
       "      <td>../dataset/DATAset/101_URTI_0_2.png</td>\n",
       "    </tr>\n",
       "    <tr>\n",
       "      <th>3</th>\n",
       "      <td>3</td>\n",
       "      <td>../dataset/STFTs/101_URTI_0_3.png</td>\n",
       "      <td>101</td>\n",
       "      <td>URTI</td>\n",
       "      <td>1</td>\n",
       "      <td>0</td>\n",
       "      <td>0</td>\n",
       "      <td>0</td>\n",
       "      <td>0</td>\n",
       "      <td>0</td>\n",
       "      <td>0</td>\n",
       "      <td>0</td>\n",
       "      <td>../dataset/DATAset/101_URTI_0_3.png</td>\n",
       "    </tr>\n",
       "    <tr>\n",
       "      <th>4</th>\n",
       "      <td>4</td>\n",
       "      <td>../dataset/STFTs/101_URTI_0_4.png</td>\n",
       "      <td>101</td>\n",
       "      <td>URTI</td>\n",
       "      <td>1</td>\n",
       "      <td>0</td>\n",
       "      <td>0</td>\n",
       "      <td>0</td>\n",
       "      <td>0</td>\n",
       "      <td>0</td>\n",
       "      <td>0</td>\n",
       "      <td>0</td>\n",
       "      <td>../dataset/DATAset/101_URTI_0_4.png</td>\n",
       "    </tr>\n",
       "  </tbody>\n",
       "</table>\n",
       "</div>"
      ],
      "text/plain": [
       "   Unnamed: 0                          file_name  patient_id diagnosis  URTI  \\\n",
       "0           0  ../dataset/STFTs/101_URTI_0_0.png         101      URTI     1   \n",
       "1           1  ../dataset/STFTs/101_URTI_0_1.png         101      URTI     1   \n",
       "2           2  ../dataset/STFTs/101_URTI_0_2.png         101      URTI     1   \n",
       "3           3  ../dataset/STFTs/101_URTI_0_3.png         101      URTI     1   \n",
       "4           4  ../dataset/STFTs/101_URTI_0_4.png         101      URTI     1   \n",
       "\n",
       "   Healthy  COPD  Asthma  LRTI  Bronchiectasis  Pneumonia  Bronchiolitis  \\\n",
       "0        0     0       0     0               0          0              0   \n",
       "1        0     0       0     0               0          0              0   \n",
       "2        0     0       0     0               0          0              0   \n",
       "3        0     0       0     0               0          0              0   \n",
       "4        0     0       0     0               0          0              0   \n",
       "\n",
       "                             crop_path  \n",
       "0  ../dataset/DATAset/101_URTI_0_0.png  \n",
       "1  ../dataset/DATAset/101_URTI_0_1.png  \n",
       "2  ../dataset/DATAset/101_URTI_0_2.png  \n",
       "3  ../dataset/DATAset/101_URTI_0_3.png  \n",
       "4  ../dataset/DATAset/101_URTI_0_4.png  "
      ]
     },
     "execution_count": 2,
     "metadata": {},
     "output_type": "execute_result"
    }
   ],
   "source": [
    "stft_csv.head()"
   ]
  },
  {
   "cell_type": "markdown",
   "metadata": {},
   "source": [
    "# CSV for diagnosis"
   ]
  },
  {
   "cell_type": "code",
   "execution_count": 1,
   "metadata": {},
   "outputs": [],
   "source": [
    "import pandas as pd\n",
    "df_csv = pd.read_csv('../dataset/dataset_csv.csv')\n",
    "diagnosis = ['URTI','Healthy','COPD','Asthma','LRTI','Bronchiectasis','Pneumonia','Pneumonia','Bronchiolitis']\n",
    "for diag in diagnosis:\n",
    "    DF = df_csv[df_csv[diag]==1]\n",
    "    DF.to_csv('../dataset/'+diag+'.csv', index = False)"
   ]
  },
  {
   "cell_type": "code",
   "execution_count": null,
   "metadata": {},
   "outputs": [],
   "source": [
    "csv_path = ['../dataset/'+diagnosis[0]+'.csv',\n",
    "            '../dataset/'+diagnosis[1]+'.csv',\n",
    "            '../dataset/'+diagnosis[2]+'.csv',\n",
    "            '../dataset/'+diagnosis[3]+'.csv',\n",
    "            '../dataset/'+diagnosis[4]+'.csv',\n",
    "            '../dataset/'+diagnosis[5]+'.csv',\n",
    "            '../dataset/'+diagnosis[6]+'.csv',\n",
    "            '../dataset/'+diagnosis[7]+'.csv',\n",
    "            '../dataset/'+diagnosis[8]+'.csv',]"
   ]
  },
  {
   "cell_type": "markdown",
   "metadata": {},
   "source": [
    "# DATA plot"
   ]
  },
  {
   "cell_type": "code",
   "execution_count": 1,
   "metadata": {},
   "outputs": [],
   "source": [
    "import pandas as pd\n",
    "import numpy as np\n",
    "import os\n",
    "import matplotlib.pyplot as plt\n",
    "%matplotlib inline"
   ]
  },
  {
   "cell_type": "code",
   "execution_count": null,
   "metadata": {},
   "outputs": [],
   "source": [
    "def d_subdata(x, df):\n",
    "    ret = {}\n",
    "    df_sub = pd.DataFrame(df[x])\n",
    "    df_sub.drop_duplicates(inplace = True)\n",
    "    df_sub.sort_values([x], ascending=[True],inplace = True)\n",
    "    df_sub.reset_index(drop=True)\n",
    "    for y in df_sub[x]:\n",
    "        print(y, ' : ', len(df[df[x]==y]))\n",
    "        ret[y] = len(df[df[x]==y])\n",
    "    return ret"
   ]
  },
  {
   "cell_type": "code",
   "execution_count": 3,
   "metadata": {},
   "outputs": [
    {
     "name": "stdout",
     "output_type": "stream",
     "text": [
      "Asthma  :  1\n",
      "Bronchiectasis  :  16\n",
      "Bronchiolitis  :  13\n",
      "COPD  :  793\n",
      "Healthy  :  35\n",
      "LRTI  :  2\n",
      "Pneumonia  :  37\n",
      "URTI  :  23\n"
     ]
    },
    {
     "data": {
      "text/plain": [
       "<BarContainer object of 8 artists>"
      ]
     },
     "execution_count": 3,
     "metadata": {},
     "output_type": "execute_result"
    },
    {
     "data": {
      "image/png": "[encoded data removed]",
      "text/plain": [
       "<Figure size 864x216 with 1 Axes>"
      ]
     },
     "metadata": {
      "needs_background": "light"
     },
     "output_type": "display_data"
    }
   ],
   "source": [
    "df_data = pd.read_csv('../dataset/data_all.csv')\n",
    "myDictionary = d_subdata('diagnosis', df_data)\n",
    "plt.figure(figsize=(12, 3))\n",
    "plt.bar(myDictionary.keys(), myDictionary.values())"
   ]
  },
  {
   "cell_type": "code",
   "execution_count": 4,
   "metadata": {},
   "outputs": [
    {
     "name": "stdout",
     "output_type": "stream",
     "text": [
      "Asthma  :  6\n",
      "Bronchiectasis  :  96\n",
      "Bronchiolitis  :  78\n",
      "COPD  :  5194\n",
      "Healthy  :  210\n",
      "LRTI  :  12\n",
      "Pneumonia  :  222\n",
      "URTI  :  138\n"
     ]
    },
    {
     "data": {
      "text/plain": [
       "<BarContainer object of 8 artists>"
      ]
     },
     "execution_count": 4,
     "metadata": {},
     "output_type": "execute_result"
    },
    {
     "data": {
      "image/png": "[encoded data removed]",
      "text/plain": [
       "<Figure size 864x216 with 1 Axes>"
      ]
     },
     "metadata": {
      "needs_background": "light"
     },
     "output_type": "display_data"
    }
   ],
   "source": [
    "df_data = pd.read_csv('../dataset/file_csv.csv')\n",
    "myDictionary = d_subdata('diagnosis', df_data)\n",
    "plt.figure(figsize=(12, 3))\n",
    "plt.bar(myDictionary.keys(), myDictionary.values())"
   ]
  },
  {
   "cell_type": "code",
   "execution_count": 3,
   "metadata": {},
   "outputs": [
    {
     "name": "stdout",
     "output_type": "stream",
     "text": [
      "Asthma  :  2\n",
      "Bronchiectasis  :  32\n",
      "Bronchiolitis  :  26\n",
      "COPD  :  1815\n",
      "Healthy  :  70\n",
      "LRTI  :  4\n",
      "Pneumonia  :  74\n",
      "URTI  :  46\n"
     ]
    },
    {
     "data": {
      "text/plain": [
       "<BarContainer object of 8 artists>"
      ]
     },
     "execution_count": 3,
     "metadata": {},
     "output_type": "execute_result"
    },
    {
     "data": {
      "image/png": "[encoded data removed]",
      "text/plain": [
       "<Figure size 864x216 with 1 Axes>"
      ]
     },
     "metadata": {
      "needs_background": "light"
     },
     "output_type": "display_data"
    }
   ],
   "source": [
    "df_data = pd.read_csv('../dataset/wav_7s.csv')\n",
    "myDictionary = d_subdata('diagnosis', df_data)\n",
    "plt.figure(figsize=(12, 3))\n",
    "plt.bar(myDictionary.keys(), myDictionary.values())"
   ]
  },
  {
   "cell_type": "code",
   "execution_count": null,
   "metadata": {},
   "outputs": [],
   "source": [
    "df_data = pd.read_csv('../dataset/stft_7_3.csv')\n",
    "myDictionary = d_subdata('diagnosis', df_data)\n",
    "plt.figure(figsize=(12, 3))\n",
    "plt.bar(myDictionary.keys(), myDictionary.values())"
   ]
  },
  {
   "cell_type": "code",
   "execution_count": null,
   "metadata": {},
   "outputs": [],
   "source": []
  }
 ],
 "metadata": {
  "kernelspec": {
   "display_name": "Sound",
   "language": "python",
   "name": "sound"
  },
  "language_info": {
   "codemirror_mode": {
    "name": "ipython",
    "version": 3
   },
   "file_extension": ".py",
   "mimetype": "text/x-python",
   "name": "python",
   "nbconvert_exporter": "python",
   "pygments_lexer": "ipython3",
   "version": "3.7.3"
  }
 },
 "nbformat": 4,
 "nbformat_minor": 2
}
